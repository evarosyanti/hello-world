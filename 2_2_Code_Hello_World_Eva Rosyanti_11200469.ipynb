{
 "cells": [
  {
   "cell_type": "code",
   "execution_count": 10,
   "metadata": {},
   "outputs": [
    {
     "name": "stdout",
     "output_type": "stream",
     "text": [
      "Eva Rosyanti\n",
      "Nim 11200469\n"
     ]
    }
   ],
   "source": [
    "print (\"Eva Rosyanti\")\n",
    "print(\"Nim 11200469\")"
   ]
  },
  {
   "cell_type": "code",
   "execution_count": 5,
   "metadata": {},
   "outputs": [
    {
     "name": "stdout",
     "output_type": "stream",
     "text": [
      "Eva Rosyanti\n",
      "Nim 11200469\n",
      "25\n"
     ]
    }
   ],
   "source": [
    "print (\"Eva Rosyanti\")\n",
    "print(\"Nim 11200469\")\n",
    "print(5*5)"
   ]
  },
  {
   "cell_type": "code",
   "execution_count": 9,
   "metadata": {},
   "outputs": [
    {
     "name": "stdout",
     "output_type": "stream",
     "text": [
      "Aku Eva Rosyanti\n",
      "55\n"
     ]
    }
   ],
   "source": [
    "print  (\"Aku Eva Rosyanti\")\n",
    "print (10*5+5)"
   ]
  },
  {
   "cell_type": "code",
   "execution_count": null,
   "metadata": {
    "collapsed": true
   },
   "outputs": [],
   "source": []
  }
 ],
 "metadata": {
  "kernelspec": {
   "display_name": "Python 3",
   "language": "python",
   "name": "python3"
  },
  "language_info": {
   "codemirror_mode": {
    "name": "ipython",
    "version": 3
   },
   "file_extension": ".py",
   "mimetype": "text/x-python",
   "name": "python",
   "nbconvert_exporter": "python",
   "pygments_lexer": "ipython3",
   "version": "3.6.3"
  }
 },
 "nbformat": 4,
 "nbformat_minor": 2
}
